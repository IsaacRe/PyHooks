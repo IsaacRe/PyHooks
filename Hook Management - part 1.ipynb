{
 "cells": [
  {
   "cell_type": "markdown",
   "metadata": {},
   "source": [
    "## Hook Management - part 1"
   ]
  },
  {
   "cell_type": "markdown",
   "metadata": {},
   "source": [
    "### ResNet-18 - CIFAR100 classification"
   ]
  },
  {
   "cell_type": "code",
   "execution_count": 1,
   "metadata": {},
   "outputs": [],
   "source": [
    "import torch\n",
    "import torch.nn as nn\n",
    "from torchvision.models import resnet18\n",
    "from torchvision.datasets import CIFAR100\n",
    "from torch.utils.data import DataLoader\n",
    "from torchvision.transforms import Compose, Resize, ToTensor"
   ]
  },
  {
   "cell_type": "code",
   "execution_count": 2,
   "metadata": {},
   "outputs": [],
   "source": [
    "cifar100 = CIFAR100('../data/', train=True, transform=Compose([Resize((224, 224)), ToTensor()]))\n",
    "cifar_ldr = DataLoader(cifar100)\n",
    "\n",
    "# get a batch of data\n",
    "x, y = next(iter(cifar_ldr))\n",
    "x, y = x.to(0), y.to(0)"
   ]
  },
  {
   "cell_type": "code",
   "execution_count": 3,
   "metadata": {
    "scrolled": true
   },
   "outputs": [],
   "source": [
    "resnet = resnet18()\n",
    "_ = resnet.cuda()"
   ]
  },
  {
   "cell_type": "code",
   "execution_count": 4,
   "metadata": {
    "collapsed": true
   },
   "outputs": [],
   "source": [
    "from tacklebox.hook_management import HookManager\n",
    "hookmngr = HookManager()"
   ]
  },
  {
   "cell_type": "markdown",
   "metadata": {},
   "source": [
    "### Hook definition"
   ]
  },
  {
   "cell_type": "code",
   "execution_count": 5,
   "metadata": {},
   "outputs": [],
   "source": [
    "# forward hook function signature: (module, inputs, outputs)\n",
    "def print_shape(module, inputs, outputs):\n",
    "    output, = outputs\n",
    "    print('%s output shape: ' % module.name, end='')\n",
    "    print(output.shape)\n",
    "\n",
    "module = resnet.conv1"
   ]
  },
  {
   "cell_type": "markdown",
   "metadata": {},
   "source": [
    "### Hook registration and lookup"
   ]
  },
  {
   "cell_type": "code",
   "execution_count": 6,
   "metadata": {},
   "outputs": [],
   "source": [
    "# register print_shape with the module, naming it myconv for reference\n",
    "hookmngr.register_forward_hook(print_shape, hook_fn_name='print_shape', myconv=module)"
   ]
  },
  {
   "cell_type": "code",
   "execution_count": 7,
   "metadata": {},
   "outputs": [
    {
     "name": "stdout",
     "output_type": "stream",
     "text": [
      "<tacklebox.hook_management.HookFunction object at 0x7fd722754828>\n",
      "<print_shape[myconv] <class 'tacklebox.hook_management.HookHandle'> registered to myconv (active)>\n",
      "Conv2d(3, 64, kernel_size=(7, 7), stride=(2, 2), padding=(3, 3), bias=False)\n"
     ]
    }
   ],
   "source": [
    "# lookup the HookFunction wrapper for print_shape\n",
    "print(hookmngr.name_to_hookfn['print_shape'])\n",
    "# lookup the HookHandle wrapper for the handle returned from registering print_shape with myconv\n",
    "print(hookmngr.name_to_hookhandle['print_shape[myconv]'])\n",
    "# lookup the module named myconv\n",
    "print(hookmngr.name_to_module['myconv'])"
   ]
  },
  {
   "cell_type": "code",
   "execution_count": 8,
   "metadata": {},
   "outputs": [],
   "source": [
    "# now register the same method with another module, this time leaving it deactivated for now\n",
    "hookmngr.register_forward_hook(print_shape, mylayer=resnet.layer1, activate=False)\n",
    "\n",
    "# note that we didnt need to name the hook function again"
   ]
  },
  {
   "cell_type": "code",
   "execution_count": 9,
   "metadata": {},
   "outputs": [
    {
     "name": "stdout",
     "output_type": "stream",
     "text": [
      "<print_shape[mylayer] <class 'tacklebox.hook_management.HookHandle'> registered to mylayer (inactive)>\n",
      "Sequential(\n",
      "  (0): BasicBlock(\n",
      "    (conv1): Conv2d(64, 64, kernel_size=(3, 3), stride=(1, 1), padding=(1, 1), bias=False)\n",
      "    (bn1): BatchNorm2d(64, eps=1e-05, momentum=0.1, affine=True, track_running_stats=True)\n",
      "    (relu): ReLU(inplace=True)\n",
      "    (conv2): Conv2d(64, 64, kernel_size=(3, 3), stride=(1, 1), padding=(1, 1), bias=False)\n",
      "    (bn2): BatchNorm2d(64, eps=1e-05, momentum=0.1, affine=True, track_running_stats=True)\n",
      "  )\n",
      "  (1): BasicBlock(\n",
      "    (conv1): Conv2d(64, 64, kernel_size=(3, 3), stride=(1, 1), padding=(1, 1), bias=False)\n",
      "    (bn1): BatchNorm2d(64, eps=1e-05, momentum=0.1, affine=True, track_running_stats=True)\n",
      "    (relu): ReLU(inplace=True)\n",
      "    (conv2): Conv2d(64, 64, kernel_size=(3, 3), stride=(1, 1), padding=(1, 1), bias=False)\n",
      "    (bn2): BatchNorm2d(64, eps=1e-05, momentum=0.1, affine=True, track_running_stats=True)\n",
      "  )\n",
      ")\n",
      "[<print_shape[myconv] <class 'tacklebox.hook_management.HookHandle'> registered to myconv (active)>, <print_shape[mylayer] <class 'tacklebox.hook_management.HookHandle'> registered to mylayer (inactive)>]\n"
     ]
    }
   ],
   "source": [
    "# lookup the HookHandle wrapper for the handle returned from registering print_shape with mylayer\n",
    "print(hookmngr.name_to_hookhandle['print_shape[mylayer]'])\n",
    "# lookup our new module, mylayer\n",
    "print(hookmngr.name_to_module['mylayer'])\n",
    "# lookup all HookHandles corresponding to the print_shape hook function\n",
    "print(hookmngr.name_to_hookfn['print_shape'].handles)"
   ]
  },
  {
   "cell_type": "code",
   "execution_count": 11,
   "metadata": {},
   "outputs": [
    {
     "name": "stdout",
     "output_type": "stream",
     "text": [
      "myconv output shape: torch.Size([1, 64, 112, 112])\n"
     ]
    }
   ],
   "source": [
    "# lets test the hook function\n",
    "with torch.no_grad():\n",
    "    resnet(x)"
   ]
  },
  {
   "cell_type": "markdown",
   "metadata": {},
   "source": [
    "### Hook activation"
   ]
  },
  {
   "cell_type": "code",
   "execution_count": 12,
   "metadata": {},
   "outputs": [
    {
     "name": "stdout",
     "output_type": "stream",
     "text": [
      "myconv output shape: torch.Size([1, 64, 112, 112])\n",
      "mylayer output shape: torch.Size([1, 64, 56, 56])\n"
     ]
    }
   ],
   "source": [
    "# activate mylayer\n",
    "hookmngr.activate_module_hooks_by_name('mylayer')\n",
    "\n",
    "with torch.no_grad():\n",
    "    resnet(x)"
   ]
  },
  {
   "cell_type": "code",
   "execution_count": 13,
   "metadata": {},
   "outputs": [],
   "source": [
    "# deactivate hook registered to myconv\n",
    "hookmngr.deactivate_all_hooks()\n",
    "\n",
    "with torch.no_grad():\n",
    "    resnet(x)"
   ]
  },
  {
   "cell_type": "markdown",
   "metadata": {},
   "source": [
    "### Using hook contexts"
   ]
  },
  {
   "cell_type": "code",
   "execution_count": 14,
   "metadata": {},
   "outputs": [
    {
     "name": "stdout",
     "output_type": "stream",
     "text": [
      "mylayer output shape: torch.Size([1, 64, 56, 56])\n"
     ]
    }
   ],
   "source": [
    "# use python context to activate hook registered to mylayer, then deactivate it after forward pass\n",
    "with torch.no_grad():\n",
    "    with hookmngr.hook_module_context_by_name('mylayer'):\n",
    "        resnet(x)\n",
    "    \n",
    "    resnet(x)  # hook doesnt execute once we exit context"
   ]
  },
  {
   "cell_type": "code",
   "execution_count": 15,
   "metadata": {},
   "outputs": [
    {
     "name": "stdout",
     "output_type": "stream",
     "text": [
      "myconv output shape: torch.Size([1, 64, 112, 112])\n",
      "mylayer output shape: torch.Size([1, 64, 56, 56])\n",
      "False\n"
     ]
    }
   ],
   "source": [
    "# now try combining the contexts -- less indentation :)\n",
    "with hookmngr.hook_all_context() + torch.no_grad():\n",
    "    resnet(x)\n",
    "    print(torch.is_grad_enabled())"
   ]
  }
 ],
 "metadata": {
  "kernelspec": {
   "display_name": "Python 3",
   "language": "python",
   "name": "python3"
  },
  "language_info": {
   "codemirror_mode": {
    "name": "ipython",
    "version": 3
   },
   "file_extension": ".py",
   "mimetype": "text/x-python",
   "name": "python",
   "nbconvert_exporter": "python",
   "pygments_lexer": "ipython3",
   "version": "3.7.3"
  }
 },
 "nbformat": 4,
 "nbformat_minor": 2
}
